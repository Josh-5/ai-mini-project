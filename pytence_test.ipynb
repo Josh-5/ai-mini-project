{
 "cells": [
  {
   "cell_type": "code",
   "execution_count": null,
   "metadata": {},
   "outputs": [],
   "source": [
    "# currently running python 3.9\n",
    "# installed pytience"
   ]
  },
  {
   "cell_type": "code",
   "execution_count": 10,
   "metadata": {},
   "outputs": [],
   "source": [
    "from pytience.games.solitaire.klondike import KlondikeGame\n"
   ]
  },
  {
   "cell_type": "code",
   "execution_count": 11,
   "metadata": {},
   "outputs": [],
   "source": [
    "# how to create a new game\n",
    "game = KlondikeGame()"
   ]
  },
  {
   "cell_type": "code",
   "execution_count": 21,
   "metadata": {},
   "outputs": [
    {
     "name": "stdout",
     "output_type": "stream",
     "text": [
      "0\n"
     ]
    }
   ],
   "source": [
    "# view the game score\n",
    "print(game.score)"
   ]
  },
  {
   "cell_type": "code",
   "execution_count": 22,
   "metadata": {},
   "outputs": [
    {
     "name": "stdout",
     "output_type": "stream",
     "text": [
      "{'score': 0, 'stock': {'num_decks': 1, 'num_jokers': 0, 'is_shuffled': True, 'cards': ['|8♣', '|3♣', '|4♦', '|7♦', '|K♣', '|2♣', '|Q♠', '|10♥', '|J♠', '|3♠', '|A♠', '|5♦', '|K♥', '|A♦', '|8♠', '|J♣', '|J♥', '|Q♦', '|4♥', '|2♦', '|5♥', '|3♥', '|7♥']}, 'waste': ['2♠'], 'foundation': {'piles': {'♠': [], '♦': [], '♣': [], '♥': []}, 'undo_stack': []}, 'tableau': {'piles': [['10♠'], ['|9♥', '10♦'], ['|Q♣', '|9♣', '7♣'], ['|10♣', '|9♦', '|5♠', '6♠'], ['|5♣', '|9♠', '|A♥', '|6♦', '4♣'], ['|7♠', '|Q♥', '|4♠', '|J♦', '|8♥', '6♥'], ['|K♠', '|6♣', '|3♦', '|2♥', '|8♦', '|A♣', 'K♦']], 'undo_stack': []}, 'undo_stack': [{'action': 'undo_deal', 'args': [False]}]}\n"
     ]
    }
   ],
   "source": [
    "# JSON structure of game\n",
    "print(game.dump())"
   ]
  },
  {
   "cell_type": "code",
   "execution_count": 23,
   "metadata": {},
   "outputs": [],
   "source": [
    "# deal a new card\n",
    "game.deal()"
   ]
  },
  {
   "cell_type": "code",
   "execution_count": 24,
   "metadata": {},
   "outputs": [
    {
     "name": "stdout",
     "output_type": "stream",
     "text": [
      "{'score': 0, 'stock': {'num_decks': 1, 'num_jokers': 0, 'is_shuffled': True, 'cards': ['|3♣', '|4♦', '|7♦', '|K♣', '|2♣', '|Q♠', '|10♥', '|J♠', '|3♠', '|A♠', '|5♦', '|K♥', '|A♦', '|8♠', '|J♣', '|J♥', '|Q♦', '|4♥', '|2♦', '|5♥', '|3♥', '|7♥']}, 'waste': ['2♠', '8♣'], 'foundation': {'piles': {'♠': [], '♦': [], '♣': [], '♥': []}, 'undo_stack': []}, 'tableau': {'piles': [['10♠'], ['|9♥', '10♦'], ['|Q♣', '|9♣', '7♣'], ['|10♣', '|9♦', '|5♠', '6♠'], ['|5♣', '|9♠', '|A♥', '|6♦', '4♣'], ['|7♠', '|Q♥', '|4♠', '|J♦', '|8♥', '6♥'], ['|K♠', '|6♣', '|3♦', '|2♥', '|8♦', '|A♣', 'K♦']], 'undo_stack': []}, 'undo_stack': [{'action': 'undo_deal', 'args': [False]}, {'action': 'undo_deal', 'args': [False]}]}\n"
     ]
    }
   ],
   "source": [
    "# updated game state\n",
    "print(game.dump())"
   ]
  },
  {
   "cell_type": "code",
   "execution_count": null,
   "metadata": {},
   "outputs": [],
   "source": []
  }
 ],
 "metadata": {
  "kernelspec": {
   "display_name": "Python 3",
   "language": "python",
   "name": "python3"
  },
  "language_info": {
   "codemirror_mode": {
    "name": "ipython",
    "version": 3
   },
   "file_extension": ".py",
   "mimetype": "text/x-python",
   "name": "python",
   "nbconvert_exporter": "python",
   "pygments_lexer": "ipython3",
   "version": "3.9.0"
  }
 },
 "nbformat": 4,
 "nbformat_minor": 2
}
